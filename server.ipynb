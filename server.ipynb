{
 "cells": [
  {
   "cell_type": "code",
   "execution_count": 1,
   "metadata": {},
   "outputs": [],
   "source": [
    "import socket                                         \n",
    "serversocket = socket.socket() \n",
    "host = socket.gethostname()                           \n",
    "port = 9999                                           \n",
    "serversocket.bind((host, port))                                  \n",
    "serversocket.listen(5)                                           \n"
   ]
  },
  {
   "cell_type": "code",
   "execution_count": 2,
   "metadata": {},
   "outputs": [
    {
     "name": "stdout",
     "output_type": "stream",
     "text": [
      "Enter value of P\n",
      "29\n"
     ]
    }
   ],
   "source": [
    "print(\"Enter value of P\")\n",
    "p=int(input())"
   ]
  },
  {
   "cell_type": "code",
   "execution_count": 3,
   "metadata": {},
   "outputs": [
    {
     "name": "stdout",
     "output_type": "stream",
     "text": [
      "Enter value of Q\n",
      "13\n"
     ]
    }
   ],
   "source": [
    "print(\"Enter value of Q\")\n",
    "q= int(input())"
   ]
  },
  {
   "cell_type": "code",
   "execution_count": 4,
   "metadata": {},
   "outputs": [
    {
     "name": "stdout",
     "output_type": "stream",
     "text": [
      "5\n"
     ]
    }
   ],
   "source": [
    "import math\n",
    "n=p*q\n",
    "phi=(p-1)*(q-1)\n",
    "e=2\n",
    "while(e<phi):\n",
    "    if(math.gcd(phi,e)==1):\n",
    "        break;\n",
    "    e=e+1\n",
    "print(e)"
   ]
  },
  {
   "cell_type": "code",
   "execution_count": 5,
   "metadata": {},
   "outputs": [
    {
     "name": "stdout",
     "output_type": "stream",
     "text": [
      "67.4\n",
      "134.6\n",
      "201.8\n",
      "269\n"
     ]
    }
   ],
   "source": [
    "i=1\n",
    "d=((i*phi)+1)/e\n",
    "while(d-math.floor(d)!=0):\n",
    "    i=i+1\n",
    "    print(d)\n",
    "    d=((i*phi)+1)/e\n",
    "d= int(d)\n",
    "print(d)"
   ]
  },
  {
   "cell_type": "code",
   "execution_count": 6,
   "metadata": {},
   "outputs": [
    {
     "name": "stdout",
     "output_type": "stream",
     "text": [
      " Enter message\n",
      "56\n"
     ]
    }
   ],
   "source": [
    "print(\" Enter message\")\n",
    "p=int(input())"
   ]
  },
  {
   "cell_type": "code",
   "execution_count": 7,
   "metadata": {},
   "outputs": [
    {
     "name": "stdout",
     "output_type": "stream",
     "text": [
      "374\n"
     ]
    }
   ],
   "source": [
    "cipher_text= (p**e) % n\n",
    "print(cipher_text)"
   ]
  },
  {
   "cell_type": "code",
   "execution_count": null,
   "metadata": {},
   "outputs": [],
   "source": []
  },
  {
   "cell_type": "code",
   "execution_count": null,
   "metadata": {},
   "outputs": [
    {
     "name": "stdout",
     "output_type": "stream",
     "text": [
      "Got a connection from ('192.168.43.32', 58123)\n"
     ]
    }
   ],
   "source": [
    "while True:\n",
    "    clientsocket,addr = serversocket.accept()      \n",
    "    print(\"Got a connection from %s\" % str(addr))\n",
    "    msg = str(cipher_text)\n",
    "    clientsocket.send(msg.encode('ascii'))\n",
    "    clientsocket.send(str(d).encode('ascii'))\n",
    "    clientsocket.send(str(n).encode('ascii'))\n",
    "    clientsocket.close()"
   ]
  },
  {
   "cell_type": "markdown",
   "metadata": {},
   "source": [
    "plain_text =(cipher_text**d)%n\n",
    "\n",
    "print(plain_text)"
   ]
  },
  {
   "cell_type": "markdown",
   "metadata": {},
   "source": []
  }
 ],
 "metadata": {
  "kernelspec": {
   "display_name": "Python 3",
   "language": "python",
   "name": "python3"
  },
  "language_info": {
   "codemirror_mode": {
    "name": "ipython",
    "version": 3
   },
   "file_extension": ".py",
   "mimetype": "text/x-python",
   "name": "python",
   "nbconvert_exporter": "python",
   "pygments_lexer": "ipython3",
   "version": "3.6.4"
  }
 },
 "nbformat": 4,
 "nbformat_minor": 2
}
