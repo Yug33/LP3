{
 "cells": [
  {
   "cell_type": "code",
   "execution_count": 1,
   "metadata": {},
   "outputs": [],
   "source": [
    "p10=[3,5,2,7,4,10,1,9,8,6]\n",
    "p8=[6,3,7,4,8,5,10,9]\n",
    "ip=[2,6,3,1,4,8,5,7]\n",
    "e=[4,1,2,3,2,3,4,1]\n",
    "p4=[2,4,3,1]\n",
    "iip=[4,1,3,5,7,2,8,6]\n",
    "s0=[\n",
    "    [1,0,3,2],\n",
    "    [3,2,1,0],\n",
    "    [0,2,1,3],\n",
    "    [3,1,3,1],\n",
    "]\n",
    "s1=[\n",
    "    [0,1,2,3],\n",
    "    [2,0,1,3],\n",
    "    [3,0,1,0],\n",
    "    [2,1,0,3]\n",
    "]"
   ]
  },
  {
   "cell_type": "code",
   "execution_count": 2,
   "metadata": {},
   "outputs": [],
   "source": [
    "plain_text='01110010'\n",
    "key='1010000010'"
   ]
  },
  {
   "cell_type": "code",
   "execution_count": 3,
   "metadata": {},
   "outputs": [],
   "source": [
    "def p_box(ip,perm):\n",
    "    output=''\n",
    "    for i in perm:\n",
    "        output+=ip[i-1]\n",
    "    return output"
   ]
  },
  {
   "cell_type": "code",
   "execution_count": 4,
   "metadata": {},
   "outputs": [],
   "source": [
    "def shifting(string,n):\n",
    "    \n",
    "    return string[n:]+string[:n]"
   ]
  },
  {
   "cell_type": "code",
   "execution_count": 5,
   "metadata": {},
   "outputs": [],
   "source": [
    "#size make\n",
    "def complete(string,n):\n",
    "    if(len(string)==n):\n",
    "        return string\n",
    "    elif (len(string)>n):\n",
    "        return string[len(string)-n:]\n",
    "    elif (len(string)<n):\n",
    "        for i in range(n-len(string)):\n",
    "            string='0'+string\n",
    "        return string"
   ]
  },
  {
   "cell_type": "code",
   "execution_count": 6,
   "metadata": {},
   "outputs": [],
   "source": [
    "def s_box(row,col,s):\n",
    "    row=int(row,2)\n",
    "    col=int(col,2)\n",
    "    print(row,col)\n",
    "    return bin(s[row][col])[2:]"
   ]
  },
  {
   "cell_type": "code",
   "execution_count": 7,
   "metadata": {},
   "outputs": [
    {
     "data": {
      "text/plain": [
       "('10100100', '01000011')"
      ]
     },
     "execution_count": 7,
     "metadata": {},
     "output_type": "execute_result"
    }
   ],
   "source": [
    "#finding keys\n",
    "per10=p_box(key,p10)\n",
    "shifted_1 = shifting(per10[:5],1)+shifting(per10[5:],1)\n",
    "key_1= p_box(shifted_1,p8)\n",
    "\n",
    "shifted_2 = shifting(shifted_1[:5],2)+shifting(shifted_1[5:],2)\n",
    "key_2 = p_box(shifted_2,p8)\n",
    "\n",
    "key_1,key_2"
   ]
  },
  {
   "cell_type": "code",
   "execution_count": 8,
   "metadata": {},
   "outputs": [
    {
     "name": "stdout",
     "output_type": "stream",
     "text": [
      "10101001\n"
     ]
    }
   ],
   "source": [
    "initital_permutaion = p_box(plain_text,ip)\n",
    "print(initital_permutaion)"
   ]
  },
  {
   "cell_type": "code",
   "execution_count": 18,
   "metadata": {},
   "outputs": [],
   "source": [
    "def rounds(text,key):\n",
    "    left=text[:4]\n",
    "    right=text[4:]\n",
    "    print(right)\n",
    "    expanded_right=p_box(right,e)\n",
    "    print('expanded_right') \n",
    "    print(expanded_right)\n",
    "    \n",
    "    xor =bin(int(expanded_right,2)^int(key,2))[2:].zfill(2)\n",
    "    xor=complete(xor,8)\n",
    "    print('xor')\n",
    "    print(xor)\n",
    "    temp_left=xor[:4]\n",
    "    temp_right=xor[4:]\n",
    "    s_left=s_box(temp_left[0]+temp_left[3],temp_left[1]+temp_left[2],s0)\n",
    "    s_right=s_box(temp_right[0]+temp_right[3],temp_right[1]+temp_right[2],s1)\n",
    "    print('s_left,s_right')\n",
    "    print(s_left,s_right)\n",
    "    \n",
    "    mergerd= s_left+s_right\n",
    "    \n",
    "    mergerd= complete(mergerd,4)\n",
    "    per_p4 = p_box(mergerd,p4)\n",
    "    print('per_p4')\n",
    "    print(per_p4)\n",
    "    \n",
    "    xor = bin(int(initital_permutaion[:4],2)^int(per_p4,2))[2:].zfill(2)\n",
    "    print('xor-2')\n",
    "    print(xor)\n",
    "    return initital_permutaion[4:]+xor\n",
    "    "
   ]
  },
  {
   "cell_type": "code",
   "execution_count": 22,
   "metadata": {},
   "outputs": [
    {
     "name": "stdout",
     "output_type": "stream",
     "text": [
      "1001\n",
      "expanded_right\n",
      "11000011\n",
      "xor\n",
      "01100111\n",
      "0 3\n",
      "1 3\n",
      "s_left,s_right\n",
      "10 11\n",
      "per_p4\n",
      "0111\n",
      "xor-2\n",
      "1101\n",
      "round1\n",
      "10011101\n",
      "1101\n",
      "expanded_right\n",
      "11101011\n",
      "xor\n",
      "10101000\n",
      "2 1\n",
      "2 0\n",
      "s_left,s_right\n",
      "10 11\n",
      "per_p4\n",
      "0111\n",
      "xor-2\n",
      "1101\n",
      "round2\n",
      "10011101\n",
      "----------------\n",
      "cipher_text\n",
      "11010011\n"
     ]
    }
   ],
   "source": [
    "round1=rounds(initital_permutaion,key_1)\n",
    "print('round1')\n",
    "print(round1)\n",
    "round2=rounds(round1,key_2)\n",
    "print('round2')\n",
    "print(round2)\n",
    "cipher_text=p_box(round2,iip)\n",
    "print('----------------')\n",
    "print('cipher_text')\n",
    "print(cipher_text)\n",
    "\n"
   ]
  },
  {
   "cell_type": "code",
   "execution_count": null,
   "metadata": {},
   "outputs": [],
   "source": []
  }
 ],
 "metadata": {
  "kernelspec": {
   "display_name": "Python 3",
   "language": "python",
   "name": "python3"
  },
  "language_info": {
   "codemirror_mode": {
    "name": "ipython",
    "version": 3
   },
   "file_extension": ".py",
   "mimetype": "text/x-python",
   "name": "python",
   "nbconvert_exporter": "python",
   "pygments_lexer": "ipython3",
   "version": "3.6.4"
  }
 },
 "nbformat": 4,
 "nbformat_minor": 2
}
