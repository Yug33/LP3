{
 "cells": [
  {
   "cell_type": "code",
   "execution_count": 1,
   "metadata": {},
   "outputs": [],
   "source": [
    "import math"
   ]
  },
  {
   "cell_type": "code",
   "execution_count": 3,
   "metadata": {},
   "outputs": [
    {
     "name": "stdout",
     "output_type": "stream",
     "text": [
      "Enter p\n",
      "29\n",
      "Enter q\n",
      "13\n"
     ]
    }
   ],
   "source": [
    "import math\n",
    "print('Enter p')\n",
    "p=int(input())\n",
    "print('Enter q')\n",
    "q=int(input())"
   ]
  },
  {
   "cell_type": "code",
   "execution_count": 4,
   "metadata": {},
   "outputs": [
    {
     "name": "stdout",
     "output_type": "stream",
     "text": [
      "5\n"
     ]
    }
   ],
   "source": [
    "n=p*q\n",
    "phi=(p-1)*(q-1)\n",
    "e=2\n",
    "while(e<phi):\n",
    "    if(math.gcd(phi,e)==1):\n",
    "        break\n",
    "    e=e+1\n",
    "print(e)\n",
    "    "
   ]
  },
  {
   "cell_type": "code",
   "execution_count": 5,
   "metadata": {},
   "outputs": [
    {
     "name": "stdout",
     "output_type": "stream",
     "text": [
      "The private key is d= 269\n"
     ]
    }
   ],
   "source": [
    "i=1\n",
    "d=(i*phi+1)/e\n",
    "while(d-math.floor(d)!=0):\n",
    "    i=i+1\n",
    "    d=(i*phi+1)/e\n",
    "    \n",
    "    \n",
    "d=int(d)\n",
    "print(\"The private key is d=\",d)\n",
    "    "
   ]
  },
  {
   "cell_type": "code",
   "execution_count": 6,
   "metadata": {},
   "outputs": [
    {
     "name": "stdout",
     "output_type": "stream",
     "text": [
      "Enter message m \n",
      "56\n",
      "The Cipher text is = 374\n"
     ]
    }
   ],
   "source": [
    "print(\"Enter message m \")\n",
    "m=int(input())\n",
    "\n",
    "c=(m**e)%n\n",
    "print(\"The Cipher text is =\",c)"
   ]
  },
  {
   "cell_type": "code",
   "execution_count": 7,
   "metadata": {},
   "outputs": [
    {
     "name": "stdout",
     "output_type": "stream",
     "text": [
      "The decrpyted message is  56\n"
     ]
    }
   ],
   "source": [
    "decrypt=(c**d)%n\n",
    "print(\"The decrpyted message is \",decrypt)"
   ]
  }
 ],
 "metadata": {
  "kernelspec": {
   "display_name": "Python 3",
   "language": "python",
   "name": "python3"
  },
  "language_info": {
   "codemirror_mode": {
    "name": "ipython",
    "version": 3
   },
   "file_extension": ".py",
   "mimetype": "text/x-python",
   "name": "python",
   "nbconvert_exporter": "python",
   "pygments_lexer": "ipython3",
   "version": "3.6.4"
  }
 },
 "nbformat": 4,
 "nbformat_minor": 2
}
