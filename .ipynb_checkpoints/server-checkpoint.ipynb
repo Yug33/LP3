{
 "cells": [
  {
   "cell_type": "code",
   "execution_count": null,
   "metadata": {},
   "outputs": [],
   "source": [
    "import socket                                         \n",
    "serversocket = socket.socket() \n",
    "host = socket.gethostname()                           \n",
    "port = 9999                                           \n",
    "serversocket.bind((host, port))                                  \n",
    "serversocket.listen(5)                                           \n"
   ]
  },
  {
   "cell_type": "code",
   "execution_count": 10,
   "metadata": {},
   "outputs": [
    {
     "name": "stdout",
     "output_type": "stream",
     "text": [
      "Enter value of P\n",
      "29\n"
     ]
    }
   ],
   "source": [
    "print(\"Enter value of P\")\n",
    "p=int(input())"
   ]
  },
  {
   "cell_type": "code",
   "execution_count": 11,
   "metadata": {},
   "outputs": [
    {
     "name": "stdout",
     "output_type": "stream",
     "text": [
      "Enter value of Q\n",
      "13\n"
     ]
    }
   ],
   "source": [
    "print(\"Enter value of Q\")\n",
    "q= int(input())"
   ]
  },
  {
   "cell_type": "code",
   "execution_count": 12,
   "metadata": {},
   "outputs": [
    {
     "name": "stdout",
     "output_type": "stream",
     "text": [
      "5\n"
     ]
    }
   ],
   "source": [
    "import math\n",
    "n=p*q\n",
    "phi=(p-1)*(q-1)\n",
    "e=2\n",
    "while(e<phi):\n",
    "    if(math.gcd(phi,e)==1):\n",
    "        break;\n",
    "    e=e+1\n",
    "print(e)"
   ]
  },
  {
   "cell_type": "code",
   "execution_count": 18,
   "metadata": {},
   "outputs": [
    {
     "name": "stdout",
     "output_type": "stream",
     "text": [
      "67.4\n",
      "134.6\n",
      "201.8\n",
      "269.0\n"
     ]
    }
   ],
   "source": [
    "i=1\n",
    "d=((i*phi)+1)/e\n",
    "while(d-math.floor(d)!=0):\n",
    "    i=i+1\n",
    "    print(d)\n",
    "    d=((i*phi)+1)/e\n",
    "print(d)"
   ]
  },
  {
   "cell_type": "code",
   "execution_count": 19,
   "metadata": {},
   "outputs": [
    {
     "name": "stdout",
     "output_type": "stream",
     "text": [
      " Enter message\n",
      "56\n"
     ]
    }
   ],
   "source": [
    "print(\" Enter message\")\n",
    "p=int(input())"
   ]
  },
  {
   "cell_type": "code",
   "execution_count": 20,
   "metadata": {},
   "outputs": [
    {
     "name": "stdout",
     "output_type": "stream",
     "text": [
      "374\n"
     ]
    }
   ],
   "source": [
    "cipher_text= (p**e) % n\n",
    "print(cipher_text)\n"
   ]
  },
  {
   "cell_type": "code",
   "execution_count": null,
   "metadata": {},
   "outputs": [],
   "source": [
    "while True:\n",
    "    clientsocket,addr = serversocket.accept()      \n",
    "    print(\"Got a connection from %s\" % str(addr))\n",
    "    msg = cipher_text\n",
    "    clientsocket.send(msg.encode('ascii'))\n",
    "    clientsocket.close()"
   ]
  },
  {
   "cell_type": "markdown",
   "metadata": {},
   "source": []
  }
 ],
 "metadata": {
  "kernelspec": {
   "display_name": "Python 3",
   "language": "python",
   "name": "python3"
  },
  "language_info": {
   "codemirror_mode": {
    "name": "ipython",
    "version": 3
   },
   "file_extension": ".py",
   "mimetype": "text/x-python",
   "name": "python",
   "nbconvert_exporter": "python",
   "pygments_lexer": "ipython3",
   "version": "3.6.4"
  }
 },
 "nbformat": 4,
 "nbformat_minor": 2
}
