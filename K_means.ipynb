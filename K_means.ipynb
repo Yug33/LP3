{
 "cells": [
  {
   "cell_type": "code",
   "execution_count": null,
   "metadata": {},
   "outputs": [],
   "source": []
  },
  {
   "cell_type": "code",
   "execution_count": 1,
   "metadata": {},
   "outputs": [],
   "source": [
    "import numpy as np\n",
    "import matplotlib.pyplot as plt\n"
   ]
  },
  {
   "cell_type": "code",
   "execution_count": 2,
   "metadata": {},
   "outputs": [],
   "source": [
    "x = np.array([[0.1,0.6],[0.15,0.71],[0.08,0.9],[0.16,0.85],[0.2,0.3],[0.25,0.5],[0.24,0.1],[0.3,0.2]])"
   ]
  },
  {
   "cell_type": "code",
   "execution_count": 3,
   "metadata": {},
   "outputs": [
    {
     "data": {
      "image/png": "[encoded data removed]",
      "text/plain": [
       "<matplotlib.figure.Figure at 0x18a17317550>"
      ]
     },
     "metadata": {},
     "output_type": "display_data"
    }
   ],
   "source": [
    "for i in range(len(x)):\n",
    "    plt.scatter(x[i][0],x[i][1],color='g')"
   ]
  },
  {
   "cell_type": "code",
   "execution_count": 4,
   "metadata": {},
   "outputs": [],
   "source": [
    "def find_distance(p1,p2):\n",
    "    return np.sum(np.abs(p1-p2))"
   ]
  },
  {
   "cell_type": "code",
   "execution_count": 5,
   "metadata": {},
   "outputs": [],
   "source": [
    "c1=x[1]\n",
    "c2=x[7]\n",
    "c1=c1.reshape(1,2)\n",
    "c2=c2.reshape(1,2)"
   ]
  },
  {
   "cell_type": "code",
   "execution_count": 7,
   "metadata": {},
   "outputs": [],
   "source": [
    "for i in range(20):\n",
    "    cluster1=[]\n",
    "    cluster2=[]\n",
    "    for i in range (len(x)):\n",
    "        d1=find_distance(c1,x[i])\n",
    "        d2=find_distance(c2,x[i])\n",
    "        if(d1<=d2):\n",
    "            cluster1.append(x[i])\n",
    "        else:\n",
    "            cluster2.append(x[i])\n",
    "    c1=np.mean(cluster1,axis=0)\n",
    "    c2=np.mean(cluster2,axis=0)"
   ]
  },
  {
   "cell_type": "code",
   "execution_count": 15,
   "metadata": {},
   "outputs": [
    {
     "data": {
      "image/png": "[encoded data removed]",
      "text/plain": [
       "<matplotlib.figure.Figure at 0x18a17be2a20>"
      ]
     },
     "metadata": {},
     "output_type": "display_data"
    }
   ],
   "source": [
    "for i in range(len(cluster1)):\n",
    "    plt.scatter(cluster1[i][0],cluster1[i][1],color='g')\n",
    "    plt.scatter(cluster2[i][0],cluster2[i][1],color='r')\n",
    "    plt.scatter(c1[0],c1[1],color='g',marker='^')\n",
    "    plt.scatter(c2[0],c2[1],color='r',marker='^')"
   ]
  }
 ],
 "metadata": {
  "kernelspec": {
   "display_name": "Python 3",
   "language": "python",
   "name": "python3"
  },
  "language_info": {
   "codemirror_mode": {
    "name": "ipython",
    "version": 3
   },
   "file_extension": ".py",
   "mimetype": "text/x-python",
   "name": "python",
   "nbconvert_exporter": "python",
   "pygments_lexer": "ipython3",
   "version": "3.6.4"
  }
 },
 "nbformat": 4,
 "nbformat_minor": 2
}
