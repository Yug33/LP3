{
 "cells": [
  {
   "cell_type": "code",
   "execution_count": 1,
   "metadata": {},
   "outputs": [],
   "source": [
    "p10=[3,5,2,7,4,10,1,9,8,6]\n",
    "p8=[6,3,7,4,8,5,10,9]\n",
    "p4=[2,4,3,1]\n",
    "ip=[2,6,3,1,4,8,5,7]\n",
    "iip=[4,1,3,5,7,2,8,6]\n",
    "e=[4,1,2,3,2,3,4,1]\n",
    "s0=[\n",
    "    [1,0,3,2],\n",
    "    [3,2,1,0],\n",
    "    [0,2,1,3],\n",
    "    [3,1,3,2]\n",
    "]\n",
    "s1=[\n",
    "    [0, 1, 2, 3],\n",
    "    [2, 0, 1, 3],\n",
    "    [3, 0, 1, 0],\n",
    "    [2, 1, 0, 3]\n",
    "]"
   ]
  },
  {
   "cell_type": "code",
   "execution_count": 39,
   "metadata": {},
   "outputs": [],
   "source": [
    "def shift_key(key,k):\n",
    "    key=key[k:]+key[:k]\n",
    "    return key\n",
    "    "
   ]
  },
  {
   "cell_type": "code",
   "execution_count": 34,
   "metadata": {},
   "outputs": [],
   "source": [
    "def p_box(ip,perm):\n",
    "    p=\"\"\n",
    "    for i in perm:\n",
    "        p = p + ip[i-1]\n",
    "    return p"
   ]
  },
  {
   "cell_type": "code",
   "execution_count": 33,
   "metadata": {},
   "outputs": [
    {
     "name": "stdout",
     "output_type": "stream",
     "text": [
      "6\n",
      "3\n",
      "7\n",
      "4\n",
      "8\n",
      "5\n",
      "10\n",
      "9\n",
      "01111101\n"
     ]
    }
   ],
   "source": [
    "key='1011101110' #10 bit\n",
    "ip='11001011' #8bit"
   ]
  },
  {
   "cell_type": "code",
   "execution_count": 50,
   "metadata": {},
   "outputs": [
    {
     "name": "stdout",
     "output_type": "stream",
     "text": [
      "1101101110\n",
      "1101\n"
     ]
    }
   ],
   "source": [
    "key_1 = p_box(key,p10)\n",
    "print(key_1)\n",
    "key_1 = shift_key(key_1[:5],1)+shift_key(key_1[5:],1)\n",
    "print(key_1)\n"
   ]
  }
 ],
 "metadata": {
  "kernelspec": {
   "display_name": "Python 3",
   "language": "python",
   "name": "python3"
  },
  "language_info": {
   "codemirror_mode": {
    "name": "ipython",
    "version": 3
   },
   "file_extension": ".py",
   "mimetype": "text/x-python",
   "name": "python",
   "nbconvert_exporter": "python",
   "pygments_lexer": "ipython3",
   "version": "3.6.4"
  }
 },
 "nbformat": 4,
 "nbformat_minor": 2
}
