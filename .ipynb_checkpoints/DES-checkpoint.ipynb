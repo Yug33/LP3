{
 "cells": [
  {
   "cell_type": "code",
   "execution_count": 1,
   "metadata": {},
   "outputs": [],
   "source": [
    "# p10=[3,5,2,7,4,10,1,9,8,6]\n",
    "p10=[3,5,2,7,4,10,1,9,8,6]\n",
    "# p8=[6,3,7,4,8,5,10,9]\n",
    "p8 =[6,3,7,4,8,5,10,9]\n",
    "p4=[2,4,3,1]\n",
    "ip=[2,6,3,1,4,8,5,7]\n",
    "iip=[4,1,3,5,7,2,8,6]\n",
    "e=[4,1,2,3,2,3,4,1]\n",
    "s0=[\n",
    "    [1,0,3,2],\n",
    "    [3,2,1,0],\n",
    "    [0,2,1,3],\n",
    "    [3,1,3,2]\n",
    "]\n",
    "s1=[\n",
    "    [0, 1, 2, 3],\n",
    "    [2, 0, 1, 3],\n",
    "    [3, 0, 1, 0],\n",
    "    [2, 1, 0, 3]\n",
    "]"
   ]
  },
  {
   "cell_type": "code",
   "execution_count": 2,
   "metadata": {},
   "outputs": [],
   "source": [
    "key='1010000010'\n",
    "# key = input()"
   ]
  },
  {
   "cell_type": "code",
   "execution_count": 23,
   "metadata": {},
   "outputs": [],
   "source": [
    "def p_box(ip,per):\n",
    "    output=\"\"\n",
    "    print(len(key))\n",
    "    for p in per:\n",
    "        print(p-2)\n",
    "        output= output+ip[int(p-1)]\n",
    "    return output"
   ]
  },
  {
   "cell_type": "code",
   "execution_count": 21,
   "metadata": {},
   "outputs": [],
   "source": [
    "def shifting(key,n):\n",
    "    output = key[n:]+key[:n]\n",
    "    return output"
   ]
  },
  {
   "cell_type": "code",
   "execution_count": 24,
   "metadata": {},
   "outputs": [
    {
     "name": "stdout",
     "output_type": "stream",
     "text": [
      "9\n",
      "1\n",
      "3\n",
      "0\n",
      "5\n",
      "2\n",
      "8\n"
     ]
    },
    {
     "ename": "IndexError",
     "evalue": "string index out of range",
     "output_type": "error",
     "traceback": [
      "\u001b[1;31m---------------------------------------------------------------------------\u001b[0m",
      "\u001b[1;31mIndexError\u001b[0m                                Traceback (most recent call last)",
      "\u001b[1;32m<ipython-input-24-d234ad256322>\u001b[0m in \u001b[0;36m<module>\u001b[1;34m()\u001b[0m\n\u001b[0;32m      1\u001b[0m \u001b[1;31m#key_1\u001b[0m\u001b[1;33m\u001b[0m\u001b[1;33m\u001b[0m\u001b[0m\n\u001b[1;32m----> 2\u001b[1;33m \u001b[0mp10_permutaion\u001b[0m \u001b[1;33m=\u001b[0m \u001b[0mp_box\u001b[0m\u001b[1;33m(\u001b[0m\u001b[0mkey\u001b[0m\u001b[1;33m,\u001b[0m\u001b[0mp10\u001b[0m\u001b[1;33m)\u001b[0m\u001b[1;33m\u001b[0m\u001b[0m\n\u001b[0m\u001b[0;32m      3\u001b[0m \u001b[0mshifted_1\u001b[0m\u001b[1;33m=\u001b[0m\u001b[0mshifting\u001b[0m\u001b[1;33m(\u001b[0m\u001b[0mp10_permutaion\u001b[0m\u001b[1;33m[\u001b[0m\u001b[1;33m:\u001b[0m\u001b[1;36m5\u001b[0m\u001b[1;33m]\u001b[0m\u001b[1;33m,\u001b[0m\u001b[1;36m1\u001b[0m\u001b[1;33m)\u001b[0m\u001b[1;33m+\u001b[0m\u001b[0mshifting\u001b[0m\u001b[1;33m(\u001b[0m\u001b[0mp10_permutaion\u001b[0m\u001b[1;33m[\u001b[0m\u001b[1;36m5\u001b[0m\u001b[1;33m:\u001b[0m\u001b[1;33m]\u001b[0m\u001b[1;33m,\u001b[0m\u001b[1;36m1\u001b[0m\u001b[1;33m)\u001b[0m\u001b[1;33m\u001b[0m\u001b[0m\n\u001b[0;32m      4\u001b[0m \u001b[0mkey_1\u001b[0m \u001b[1;33m=\u001b[0m \u001b[0mp_box\u001b[0m\u001b[1;33m(\u001b[0m\u001b[0mshifted_1\u001b[0m\u001b[1;33m,\u001b[0m\u001b[0mp8\u001b[0m\u001b[1;33m)\u001b[0m\u001b[1;33m\u001b[0m\u001b[0m\n\u001b[0;32m      5\u001b[0m \u001b[0mprint\u001b[0m\u001b[1;33m(\u001b[0m\u001b[0mkey_1\u001b[0m\u001b[1;33m)\u001b[0m\u001b[1;33m\u001b[0m\u001b[0m\n",
      "\u001b[1;32m<ipython-input-23-909c04a3d962>\u001b[0m in \u001b[0;36mp_box\u001b[1;34m(ip, per)\u001b[0m\n\u001b[0;32m      4\u001b[0m     \u001b[1;32mfor\u001b[0m \u001b[0mp\u001b[0m \u001b[1;32min\u001b[0m \u001b[0mper\u001b[0m\u001b[1;33m:\u001b[0m\u001b[1;33m\u001b[0m\u001b[0m\n\u001b[0;32m      5\u001b[0m         \u001b[0mprint\u001b[0m\u001b[1;33m(\u001b[0m\u001b[0mp\u001b[0m\u001b[1;33m-\u001b[0m\u001b[1;36m2\u001b[0m\u001b[1;33m)\u001b[0m\u001b[1;33m\u001b[0m\u001b[0m\n\u001b[1;32m----> 6\u001b[1;33m         \u001b[0moutput\u001b[0m\u001b[1;33m=\u001b[0m \u001b[0moutput\u001b[0m\u001b[1;33m+\u001b[0m\u001b[0mip\u001b[0m\u001b[1;33m[\u001b[0m\u001b[0mint\u001b[0m\u001b[1;33m(\u001b[0m\u001b[0mp\u001b[0m\u001b[1;33m-\u001b[0m\u001b[1;36m1\u001b[0m\u001b[1;33m)\u001b[0m\u001b[1;33m]\u001b[0m\u001b[1;33m\u001b[0m\u001b[0m\n\u001b[0m\u001b[0;32m      7\u001b[0m     \u001b[1;32mreturn\u001b[0m \u001b[0moutput\u001b[0m\u001b[1;33m\u001b[0m\u001b[0m\n",
      "\u001b[1;31mIndexError\u001b[0m: string index out of range"
     ]
    }
   ],
   "source": [
    "#key_1\n",
    "p10_permutaion = p_box(key,p10)\n",
    "shifted_1=shifting(p10_permutaion[:5],1)+shifting(p10_permutaion[5:],1)\n",
    "key_1 = p_box(shifted_1,p8)\n",
    "print(key_1)\n",
    "#key_2\n",
    "# shifted_2=shifting(shifted_1[:5],2)+shifting(shifted_1[5:],2)\n",
    "# key_2 = p_box(shifted_2,p8)\n",
    "# print(key_2)\n"
   ]
  },
  {
   "cell_type": "code",
   "execution_count": null,
   "metadata": {},
   "outputs": [],
   "source": []
  }
 ],
 "metadata": {
  "kernelspec": {
   "display_name": "Python 3",
   "language": "python",
   "name": "python3"
  },
  "language_info": {
   "codemirror_mode": {
    "name": "ipython",
    "version": 3
   },
   "file_extension": ".py",
   "mimetype": "text/x-python",
   "name": "python",
   "nbconvert_exporter": "python",
   "pygments_lexer": "ipython3",
   "version": "3.6.4"
  }
 },
 "nbformat": 4,
 "nbformat_minor": 2
}
