{
 "cells": [
  {
   "cell_type": "code",
   "execution_count": null,
   "metadata": {},
   "outputs": [],
   "source": [
    "import socket                                         \n",
    "serversocket = socket.socket() \n",
    "host = socket.gethostname()\n",
    "port = 7890\n",
    "serversocket.bind((host,port))\n",
    "serversocket.listen(5)\n",
    "    "
   ]
  },
  {
   "cell_type": "code",
   "execution_count": null,
   "metadata": {},
   "outputs": [
    {
     "name": "stdout",
     "output_type": "stream",
     "text": [
      "Enter Msg\n",
      "56\n",
      "\n",
      "\n"
     ]
    }
   ],
   "source": [
    "while True:\n",
    "    client_socket,addr=serversocket.accept()\n",
    "    n = client_socket.recv(1024)\n",
    "    key = client_socket.recv(1024)\n",
    "    print('Enter Msg')\n",
    "    msg=int(input())\n",
    "    n=int(n.decode('ascii'))\n",
    "    key=int(key.decode('ascii'))\n",
    "    cipher = (msg**key) % n\n",
    "    cipher= str(cipher)\n",
    "    client_socket.send(cipher.encode('ascii'))\n",
    "#     msg = client_socket.recv(1024)\n",
    "#     print(\"popo\"+msg.decode('ascii'))\n",
    "    client_socket.close()\n",
    "    print(\"messege send\")\n",
    "   "
   ]
  }
 ],
 "metadata": {
  "kernelspec": {
   "display_name": "Python 3",
   "language": "python",
   "name": "python3"
  },
  "language_info": {
   "codemirror_mode": {
    "name": "ipython",
    "version": 3
   },
   "file_extension": ".py",
   "mimetype": "text/x-python",
   "name": "python",
   "nbconvert_exporter": "python",
   "pygments_lexer": "ipython3",
   "version": "3.6.4"
  }
 },
 "nbformat": 4,
 "nbformat_minor": 2
}
