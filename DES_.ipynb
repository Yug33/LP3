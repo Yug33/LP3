{
 "cells": [
  {
   "cell_type": "code",
   "execution_count": 1,
   "metadata": {},
   "outputs": [],
   "source": [
    "#input\n",
    "p10=[3,5,2,7,4,10,1,9,8,6]\n",
    "p8 =[6,3,7,4,8,5,10,9]\n",
    "p4=[2,4,3,1]\n",
    "ip=[2,6,3,1,4,8,5,7]\n",
    "iip=[4,1,3,5,7,2,8,6]\n",
    "e=[4,1,2,3,2,3,4,1]\n",
    "s0=[\n",
    "    [1,0,3,2],\n",
    "    [3,2,1,0],\n",
    "    [0,2,1,3],\n",
    "    [3,1,3,2]\n",
    "]\n",
    "s1=[\n",
    "    [0, 1, 2, 3],\n",
    "    [2, 0, 1, 3],\n",
    "    [3, 0, 1, 0],\n",
    "    [2, 1, 0, 3]\n",
    "]"
   ]
  },
  {
   "cell_type": "code",
   "execution_count": 2,
   "metadata": {},
   "outputs": [],
   "source": [
    "key='1010000010'\n",
    "plain_text='01110010'"
   ]
  },
  {
   "cell_type": "code",
   "execution_count": 3,
   "metadata": {},
   "outputs": [],
   "source": [
    "def p_box(ip,per):\n",
    "    output=\"\"\n",
    "    for p in per:\n",
    "        output= output+ip[int(p-1)]\n",
    "#         print(output)\n",
    "    return output"
   ]
  },
  {
   "cell_type": "code",
   "execution_count": 4,
   "metadata": {},
   "outputs": [],
   "source": [
    "def shifting(key,n):\n",
    "    output = key[n:]+key[:n]\n",
    "    return output"
   ]
  },
  {
   "cell_type": "code",
   "execution_count": 5,
   "metadata": {},
   "outputs": [],
   "source": [
    "def s_box(row,col,s):\n",
    "    row = int(row,2)\n",
    "    col = int(col,2)\n",
    "    print(row,col)\n",
    "    \n",
    "    return s[row][col]"
   ]
  },
  {
   "cell_type": "code",
   "execution_count": 6,
   "metadata": {},
   "outputs": [
    {
     "name": "stdout",
     "output_type": "stream",
     "text": [
      "10100100\n",
      "01000011\n"
     ]
    }
   ],
   "source": [
    "#Key generation\n",
    "#key_1\n",
    "p10_permutaion = p_box(key,p10)\n",
    "shifted_1=shifting(p10_permutaion[:5],1)+shifting(p10_permutaion[5:],1)\n",
    "key_1 = p_box(shifted_1,p8)\n",
    "print(key_1)\n",
    "# key_2\n",
    "shifted_2=shifting(shifted_1[:5],2)+shifting(shifted_1[5:],2)\n",
    "key_2 = p_box(shifted_2,p8)\n",
    "print(key_2)"
   ]
  },
  {
   "cell_type": "code",
   "execution_count": 30,
   "metadata": {},
   "outputs": [],
   "source": [
    "#operaion in Round\n",
    "def rounds(plain_text,key):\n",
    "    plain_text+='00'\n",
    "    #initial permutation\n",
    "    plain_text = p_box(plain_text,ip)\n",
    "\n",
    "    \n",
    "    left=plain_text[:4]\n",
    "    right=plain_text[4:]\n",
    "\n",
    "    left+=\"0000\"\n",
    "    right+=\"0000\"\n",
    "    \n",
    "    #Expansion permutation\n",
    "    right= p_box(right,e)\n",
    "    \n",
    "    #XOR with key\n",
    "    xor = bin(int(key,2)^int(right,2))[2:].zfill(0)\n",
    "    stri = '0'+str(xor)\n",
    "\n",
    "#     print(\"++++++\"+str(len(stri))\n",
    "    if(len(stri)<=7):\n",
    "          for i in range (8-len(stri)):\n",
    "                stri='0'+stri\n",
    "    # S_BOX substitution\n",
    "    left_half = stri[0:4]\n",
    "    right_half = stri[4:]\n",
    "\n",
    "    print(\"left s box\")\n",
    "    left_s_box = s_box(left_half[0]+left_half[3],left_half[1]+left_half[2],s0)\n",
    "    left_s_box=bin(left_s_box).replace(\"0b\",\"\")\n",
    "    print(left_s_box)\n",
    "\n",
    "    print(\"right s box\")\n",
    "    print(\"-------\"+right_half)\n",
    "    right_s_box = s_box(right_half[0]+right_half[3],right_half[1]+right_half[2],s1)\n",
    "    \n",
    "    right_s_box=bin(right_s_box).replace(\"0b\",\"\")\n",
    "    print(right_s_box)\n",
    "    \n",
    "    #combining the output of s_box\n",
    "    \n",
    "    string = left_s_box+right_s_box\n",
    "    print(string)\n",
    "\n",
    "    #p4 permutaion\n",
    "    if(len(string)<=3):\n",
    "        for i in range (4-len(string)):\n",
    "            string='0'+string\n",
    "            \n",
    "    permutaion_4p = p_box(string,p4)\n",
    "    print(permutaion_4p)\n",
    "    \n",
    "    #4p permutaion is xor with left 4 bit of initial permutaion \n",
    "    xor = bin(int(plain_text[:4],2)^int(permutaion_4p,2))[2:].zfill(4)\n",
    "    #swap right block to left\n",
    "    swap=plain_text[4:]+xor\n",
    "    return swap"
   ]
  },
  {
   "cell_type": "code",
   "execution_count": 32,
   "metadata": {},
   "outputs": [
    {
     "name": "stdout",
     "output_type": "stream",
     "text": [
      "left s box\n",
      "0 3\n",
      "10\n",
      "right s box\n",
      "-------0111\n",
      "1 3\n",
      "11\n",
      "1011\n",
      "0111\n",
      "**********************\n",
      "10011101\n",
      "left s box\n",
      "1 1\n",
      "10\n",
      "right s box\n",
      "-------1110\n",
      "2 3\n",
      "0\n",
      "100\n",
      "1000\n",
      "Cipher Text is: \n",
      "11011110\n"
     ]
    }
   ],
   "source": [
    "#first round\n",
    "swapped= rounds(plain_text,key_1)\n",
    "print(\"**********************\")\n",
    "\n",
    "print(swapped)\n",
    "cipher_text = rounds(swapped,key_2)\n",
    "print(\"Cipher Text is: \")\n",
    "print(cipher_text[4:]+cipher_text[:4])"
   ]
  }
 ],
 "metadata": {
  "kernelspec": {
   "display_name": "Python 3",
   "language": "python",
   "name": "python3"
  },
  "language_info": {
   "codemirror_mode": {
    "name": "ipython",
    "version": 3
   },
   "file_extension": ".py",
   "mimetype": "text/x-python",
   "name": "python",
   "nbconvert_exporter": "python",
   "pygments_lexer": "ipython3",
   "version": "3.6.4"
  }
 },
 "nbformat": 4,
 "nbformat_minor": 2
}
