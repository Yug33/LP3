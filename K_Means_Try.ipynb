{
 "cells": [
  {
   "cell_type": "code",
   "execution_count": 1,
   "metadata": {},
   "outputs": [],
   "source": [
    "import numpy as np\n",
    "import matplotlib.pyplot as pd\n",
    "import math"
   ]
  },
  {
   "cell_type": "code",
   "execution_count": 2,
   "metadata": {},
   "outputs": [],
   "source": [
    "x = np.array([[0.1,0.6],[0.15,0.71],[0.08,0.9],[0.16,0.85],[0.2,0.3],[0.25,0.5],[0.24,0.1],[0.3,0.2]])"
   ]
  },
  {
   "cell_type": "code",
   "execution_count": 3,
   "metadata": {},
   "outputs": [],
   "source": [
    "def find_distance(c,x):\n",
    "    d = np.sum(np.abs(c-x))\n",
    "    return d"
   ]
  },
  {
   "cell_type": "code",
   "execution_count": 4,
   "metadata": {},
   "outputs": [],
   "source": [
    "c1=x[0]\n",
    "c2=x[7]\n",
    "c1=c1.reshape(1,2)\n",
    "c2=c2.reshape(1,2)"
   ]
  },
  {
   "cell_type": "code",
   "execution_count": 5,
   "metadata": {},
   "outputs": [],
   "source": [
    "for i in range (20):\n",
    "    cluster_1=[]\n",
    "    cluster_2=[]\n",
    "    for j in range (len(x)):\n",
    "        d1=find_distance(c1,x[j])\n",
    "        d2=find_distance(c2,x[j])\n",
    "#         print(d2)\n",
    "        if(d1<=d2):\n",
    "            cluster_1.append(x[j])\n",
    "        else:\n",
    "            cluster_2.append(x[j])\n",
    "    c1=np.mean(cluster_1,axis=0)\n",
    "    c2=np.mean(cluster_2,axis=0)\n"
   ]
  },
  {
   "cell_type": "code",
   "execution_count": 6,
   "metadata": {},
   "outputs": [],
   "source": [
    "cluster_1=np.array(cluster_1)\n",
    "cluster_2=np.array(cluster_2)\n",
    "c1=np.array(c1)\n",
    "c2=np.array(c2)"
   ]
  },
  {
   "cell_type": "code",
   "execution_count": 8,
   "metadata": {},
   "outputs": [
    {
     "data": {
      "text/plain": [
       "<matplotlib.collections.PathCollection at 0x195eb07a588>"
      ]
     },
     "execution_count": 8,
     "metadata": {},
     "output_type": "execute_result"
    },
    {
     "data": {
      "image/png": "[encoded data removed]",
      "text/plain": [
       "<matplotlib.figure.Figure at 0x195ead4a6a0>"
      ]
     },
     "metadata": {},
     "output_type": "display_data"
    }
   ],
   "source": [
    "pd.scatter(x=cluster_1[:,0],y=cluster_1[:,1],color='g')\n",
    "pd.scatter(x=cluster_2[:,0],y=cluster_2[:,1],color='b')"
   ]
  }
 ],
 "metadata": {
  "kernelspec": {
   "display_name": "Python 3",
   "language": "python",
   "name": "python3"
  },
  "language_info": {
   "codemirror_mode": {
    "name": "ipython",
    "version": 3
   },
   "file_extension": ".py",
   "mimetype": "text/x-python",
   "name": "python",
   "nbconvert_exporter": "python",
   "pygments_lexer": "ipython3",
   "version": "3.6.4"
  }
 },
 "nbformat": 4,
 "nbformat_minor": 2
}
