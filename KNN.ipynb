{
 "cells": [
  {
   "cell_type": "code",
   "execution_count": 34,
   "metadata": {},
   "outputs": [],
   "source": [
    "import matplotlib.pyplot as plt\n",
    "import numpy as np\n",
    "import math"
   ]
  },
  {
   "cell_type": "code",
   "execution_count": 38,
   "metadata": {},
   "outputs": [],
   "source": [
    "data={\n",
    "    (2,4):'y',\n",
    "    (4,2):'y',\n",
    "    (4,4):'b',\n",
    "    (4,6):'y',\n",
    "    (6,2):'b',\n",
    "    (6,4):'y',\n",
    "}\n",
    "k=3\n",
    "new_point=[(6,6)]\n",
    "new_point=np.array(new_point)"
   ]
  },
  {
   "cell_type": "code",
   "execution_count": 23,
   "metadata": {},
   "outputs": [
    {
     "data": {
      "text/plain": [
       "([(2, 4), (4, 2), (4, 4), (4, 6), (6, 2), (6, 4)],\n",
       " ['y', 'y', 'b', 'y', 'b', 'y'])"
      ]
     },
     "execution_count": 23,
     "metadata": {},
     "output_type": "execute_result"
    }
   ],
   "source": [
    "ip=list(data.keys())\n",
    "values=list(data.values())\n",
    "ip,values"
   ]
  },
  {
   "cell_type": "code",
   "execution_count": 32,
   "metadata": {},
   "outputs": [
    {
     "data": {
      "text/plain": [
       "<matplotlib.collections.PathCollection at 0x25c0bfd8c88>"
      ]
     },
     "execution_count": 32,
     "metadata": {},
     "output_type": "execute_result"
    },
    {
     "data": {
      "image/png": "[encoded data removed]",
      "text/plain": [
       "<matplotlib.figure.Figure at 0x25c0bb67828>"
      ]
     },
     "metadata": {},
     "output_type": "display_data"
    }
   ],
   "source": [
    "for i in range(len(ip)):\n",
    "    plt.scatter(ip[i][0],ip[i][1])\n",
    "plt.scatter(new_point[0][0],new_point[0][1])"
   ]
  },
  {
   "cell_type": "code",
   "execution_count": 35,
   "metadata": {},
   "outputs": [],
   "source": [
    "def find_distance(p1,p2):\n",
    "    return math.sqrt(np.sum(np.abs(p1-p2)**2))"
   ]
  },
  {
   "cell_type": "code",
   "execution_count": 59,
   "metadata": {},
   "outputs": [
    {
     "data": {
      "text/plain": [
       "(2.0, 'y')"
      ]
     },
     "execution_count": 59,
     "metadata": {},
     "output_type": "execute_result"
    }
   ],
   "source": [
    "ip=np.array(ip)\n",
    "distance=[]\n",
    "for i in ip:\n",
    "    distance.append(find_distance(i,new_point))\n",
    "    \n",
    "merged=zip(distance,values)\n",
    "ranked=sorted(merged) \n",
    "ranked=ranked[:k]\n"
   ]
  },
  {
   "cell_type": "code",
   "execution_count": 67,
   "metadata": {},
   "outputs": [],
   "source": [
    "blue=0\n",
    "yellow=0\n",
    "\n",
    "for r in range (len(ranked)):\n",
    "    if (ranked[r][1] =='y'):\n",
    "        yellow+=1\n",
    "    else:\n",
    "        blue+=1\n",
    "        \n",
    "if(yellow>blue):\n",
    "    prediction='y'\n",
    "else:\n",
    "    prediction='b'"
   ]
  },
  {
   "cell_type": "code",
   "execution_count": 70,
   "metadata": {},
   "outputs": [
    {
     "data": {
      "text/plain": [
       "<matplotlib.collections.PathCollection at 0x25c0d4344a8>"
      ]
     },
     "execution_count": 70,
     "metadata": {},
     "output_type": "execute_result"
    },
    {
     "data": {
      "image/png": "[encoded data removed]",
      "text/plain": [
       "<matplotlib.figure.Figure at 0x25c0d48cba8>"
      ]
     },
     "metadata": {},
     "output_type": "display_data"
    }
   ],
   "source": [
    "for i in range(len(ip)):\n",
    "    plt.scatter(ip[i][0],ip[i][1],color=values[i])\n",
    "plt.scatter(new_point[0][0],new_point[0][1],color=prediction)"
   ]
  }
 ],
 "metadata": {
  "kernelspec": {
   "display_name": "Python 3",
   "language": "python",
   "name": "python3"
  },
  "language_info": {
   "codemirror_mode": {
    "name": "ipython",
    "version": 3
   },
   "file_extension": ".py",
   "mimetype": "text/x-python",
   "name": "python",
   "nbconvert_exporter": "python",
   "pygments_lexer": "ipython3",
   "version": "3.6.4"
  }
 },
 "nbformat": 4,
 "nbformat_minor": 2
}
