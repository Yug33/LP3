{
 "cells": [
  {
   "cell_type": "markdown",
   "metadata": {},
   "source": [
    "# Decision tree"
   ]
  },
  {
   "cell_type": "code",
   "execution_count": 1,
   "metadata": {},
   "outputs": [],
   "source": [
    "import math"
   ]
  },
  {
   "cell_type": "code",
   "execution_count": 2,
   "metadata": {},
   "outputs": [],
   "source": [
    "def entropy(p,n):\n",
    "    if p==0 or n == 0:\n",
    "        return 0\n",
    "    else:\n",
    "        e=-(p/(p+n))*math.log2(p/(p+n))-(n/(p+n))*math.log2(n/(p+n))\n",
    "    return e"
   ]
  },
  {
   "cell_type": "code",
   "execution_count": 21,
   "metadata": {},
   "outputs": [
    {
     "name": "stdout",
     "output_type": "stream",
     "text": [
      "0.9402859586706311\n"
     ]
    }
   ],
   "source": [
    "class_entropy=entropy(9,5)\n",
    "print(class_entropy)\n",
    "import numpy as np"
   ]
  },
  {
   "cell_type": "code",
   "execution_count": 22,
   "metadata": {},
   "outputs": [
    {
     "name": "stdout",
     "output_type": "stream",
     "text": [
      "3\n",
      "2\n",
      "3\n",
      "5\n",
      "4\n",
      "0\n",
      "9\n",
      "3\n",
      "2\n",
      "14\n",
      "[5 4 5] 14\n",
      "entropy attr\n",
      "0.6935361388961918\n",
      "0.9402859586706311 0.6935361388961918\n",
      "0.24674981977443933\n"
     ]
    }
   ],
   "source": [
    "row = int(input())\n",
    "pn=[]\n",
    "e_list=[]\n",
    "p_plus_n = 0\n",
    "for i in range(row):\n",
    "    p=int(input())\n",
    "    n=int(input())\n",
    "    p_plus_n += p+n\n",
    "    e=entropy(p,n)\n",
    "    e_list.append(e)\n",
    "    pn.append(p+n)\n",
    "    print(p_plus_n)\n",
    "e_list = np.array(e_list)\n",
    "pn = np.array(pn)\n",
    "print(pn,p_plus_n)\n",
    "div=pn/p_plus_n\n",
    "entopry_attr=np.sum(e_list*div)\n",
    "print(\"entropy attr\")\n",
    "print(entopry_attr)\n",
    "print(class_entropy,entopry_attr)\n",
    "gain=(class_entropy-entopry_attr)\n",
    "print(gain)\n"
   ]
  },
  {
   "cell_type": "code",
   "execution_count": null,
   "metadata": {},
   "outputs": [],
   "source": [
    "\n"
   ]
  }
 ],
 "metadata": {
  "kernelspec": {
   "display_name": "Python 3",
   "language": "python",
   "name": "python3"
  },
  "language_info": {
   "codemirror_mode": {
    "name": "ipython",
    "version": 3
   },
   "file_extension": ".py",
   "mimetype": "text/x-python",
   "name": "python",
   "nbconvert_exporter": "python",
   "pygments_lexer": "ipython3",
   "version": "3.6.4"
  }
 },
 "nbformat": 4,
 "nbformat_minor": 2
}
