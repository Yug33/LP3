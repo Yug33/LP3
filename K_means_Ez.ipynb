{
 "cells": [
  {
   "cell_type": "code",
   "execution_count": 1,
   "metadata": {},
   "outputs": [],
   "source": [
    "import numpy as np\n",
    "import math\n",
    "import matplotlib.pyplot as plt"
   ]
  },
  {
   "cell_type": "code",
   "execution_count": 2,
   "metadata": {},
   "outputs": [],
   "source": [
    "x = np.array([[0.1,0.6],[0.15,0.71],[0.08,0.9],[0.16,0.85],[0.2,0.3],[0.25,0.5],[0.24,0.1],[0.3,0.2]])"
   ]
  },
  {
   "cell_type": "code",
   "execution_count": 3,
   "metadata": {},
   "outputs": [],
   "source": [
    "def find_distance(c,x):\n",
    "    d=np.sum(np.abs(c-x))\n",
    "    return d"
   ]
  },
  {
   "cell_type": "code",
   "execution_count": 4,
   "metadata": {},
   "outputs": [],
   "source": [
    "c1=x[1]\n",
    "c2=x[7]\n",
    "c1=c1.reshape(1,2)\n",
    "c2=c2.reshape(1,2)\n",
    "# print(type(d1))"
   ]
  },
  {
   "cell_type": "code",
   "execution_count": 5,
   "metadata": {},
   "outputs": [],
   "source": [
    "for i in range(20):\n",
    "    cluster1=[]\n",
    "    cluster2=[]\n",
    "    for i in range(len(x)):\n",
    "        d1=find_distance(c1,x[i])\n",
    "        d2=find_distance(c2,x[i])\n",
    "\n",
    "        if (d1<=d2):\n",
    "            cluster1.append(x[i])\n",
    "        else:\n",
    "            cluster2.append(x[i])\n",
    "    c1=np.mean(cluster1,axis=0)\n",
    "    c2=np.mean(cluster2,axis=0)"
   ]
  },
  {
   "cell_type": "code",
   "execution_count": 6,
   "metadata": {},
   "outputs": [],
   "source": [
    "cluster1=np.array(cluster1)\n",
    "cluster2=np.array(cluster2)\n",
    "c1=np.array(c1)\n",
    "c2=np.array(c2)"
   ]
  },
  {
   "cell_type": "code",
   "execution_count": 7,
   "metadata": {},
   "outputs": [
    {
     "data": {
      "text/plain": [
       "<matplotlib.collections.PathCollection at 0x286135aec88>"
      ]
     },
     "execution_count": 7,
     "metadata": {},
     "output_type": "execute_result"
    },
    {
     "data": {
      "image/png": "[encoded data removed]",
      "text/plain": [
       "<matplotlib.figure.Figure at 0x286132fec18>"
      ]
     },
     "metadata": {},
     "output_type": "display_data"
    }
   ],
   "source": [
    "plt.scatter(x=cluster1[:,0],y=cluster1[:,1])\n",
    "plt.scatter(x=cluster2[:,0],y=cluster2[:,1])\n",
    "plt.scatter(x=c1[0],y=c1[1])\n",
    "plt.scatter(x=c2[0],y=c2[1])\n",
    "# for i in range (len(c1)):\n",
    "#     plt.scatter(x=c1[0][i],y=c2[1][i])"
   ]
  }
 ],
 "metadata": {
  "kernelspec": {
   "display_name": "Python 3",
   "language": "python",
   "name": "python3"
  },
  "language_info": {
   "codemirror_mode": {
    "name": "ipython",
    "version": 3
   },
   "file_extension": ".py",
   "mimetype": "text/x-python",
   "name": "python",
   "nbconvert_exporter": "python",
   "pygments_lexer": "ipython3",
   "version": "3.6.4"
  }
 },
 "nbformat": 4,
 "nbformat_minor": 2
}
