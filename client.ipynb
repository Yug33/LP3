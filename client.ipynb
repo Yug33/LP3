{
 "cells": [
  {
   "cell_type": "code",
   "execution_count": 1,
   "metadata": {},
   "outputs": [],
   "source": [
    "\n",
    "import socket\n",
    "\n",
    "s = socket.socket() \n",
    "host = socket.gethostname()                           \n",
    "port = 9999\n",
    "\n",
    "s.connect((host, port))                               \n",
    "msg = s.recv(1024)                                     \n",
    "key = s.recv(1024)\n",
    "n = s.recv(1024)\n",
    "s.close()\n",
    "\n",
    "\n",
    "key = key.decode('ascii')\n",
    "msg = msg.decode('ascii')\n",
    "n = n.decode('ascii')\n",
    "\n"
   ]
  },
  {
   "cell_type": "code",
   "execution_count": 2,
   "metadata": {},
   "outputs": [
    {
     "name": "stdout",
     "output_type": "stream",
     "text": [
      "374\n",
      "269\n",
      "377\n",
      "56\n"
     ]
    }
   ],
   "source": [
    "# print(key)\n",
    "# print(msg)\n",
    "key=int(key)\n",
    "msg=int(msg)\n",
    "n=int(n)\n",
    "\n",
    "print(msg)\n",
    "print(key)\n",
    "print(n)\n",
    "plain_text=(msg**key)%n\n",
    "print(plain_text)"
   ]
  },
  {
   "cell_type": "code",
   "execution_count": null,
   "metadata": {},
   "outputs": [],
   "source": []
  },
  {
   "cell_type": "code",
   "execution_count": null,
   "metadata": {},
   "outputs": [],
   "source": []
  }
 ],
 "metadata": {
  "kernelspec": {
   "display_name": "Python 3",
   "language": "python",
   "name": "python3"
  },
  "language_info": {
   "codemirror_mode": {
    "name": "ipython",
    "version": 3
   },
   "file_extension": ".py",
   "mimetype": "text/x-python",
   "name": "python",
   "nbconvert_exporter": "python",
   "pygments_lexer": "ipython3",
   "version": "3.6.4"
  }
 },
 "nbformat": 4,
 "nbformat_minor": 2
}
