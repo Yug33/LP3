{
 "cells": [
  {
   "cell_type": "code",
   "execution_count": 1,
   "metadata": {},
   "outputs": [],
   "source": [
    "import numpy as np\n",
    "X = np.array([[0.1,0.6],[0.15,0.71],[0.08,0.9],[0.16,0.85],[0.2,0.3],[0.25,0.5],[0.24,0.1],[0.3,0.2]])"
   ]
  },
  {
   "cell_type": "code",
   "execution_count": 2,
   "metadata": {},
   "outputs": [],
   "source": [
    "import math\n",
    "def get_distance(p1,p2):\n",
    "    sum_ = 0\n",
    "    for i in range(len(p1)):\n",
    "        sum_ += (p1[i]-p2[i])**2\n",
    "    dist = math.sqrt(sum_)    \n",
    "    return dist"
   ]
  },
  {
   "cell_type": "code",
   "execution_count": 3,
   "metadata": {},
   "outputs": [],
   "source": [
    "def cal_centroid(centroid):\n",
    "    centroid=np.array(centroid)\n",
    "    return np.average(centroid,axis=0)\n"
   ]
  },
  {
   "cell_type": "code",
   "execution_count": 10,
   "metadata": {},
   "outputs": [],
   "source": [
    "center1=X[0]\n",
    "center2=X[7]\n",
    "\n",
    "cluster_1=[]\n",
    "cluster_2=[]\n",
    "\n",
    "for i in range (len(X)):\n",
    "    dist1=get_distance(X[i],center1)\n",
    "    dist2=get_distance(X[i],center2)\n",
    "    \n",
    "    if(dist1<=dist2):\n",
    "        cluster_1.append(X[i])\n",
    "    else:\n",
    "        cluster_2.append(X[i])\n",
    "center1 = cal_centroid(cluster_1)\n",
    "center2 = cal_centroid(cluster_2)\n",
    "    \n",
    "# C1,C2 = X[0],X[7]\n",
    "\n",
    "# C1_cluster = []\n",
    "# C2_cluster = []\n",
    "# for i in range(len(X)):\n",
    "#     dist1 = get_distance(X[i],C1)\n",
    "#     dist2 = get_distance(X[i],C2)\n",
    "#     if(dist1<=dist2):\n",
    "#         C1_cluster.append(X[i])\n",
    "#     else:\n",
    "#         C2_cluster.append(X[i])\n",
    "# C1 = cal_centroid(C1_cluster)\n",
    "# C2 = cal_centroid(C2_cluster)\n"
   ]
  },
  {
   "cell_type": "code",
   "execution_count": 8,
   "metadata": {},
   "outputs": [],
   "source": []
  }
 ],
 "metadata": {
  "kernelspec": {
   "display_name": "Python 3",
   "language": "python",
   "name": "python3"
  },
  "language_info": {
   "codemirror_mode": {
    "name": "ipython",
    "version": 3
   },
   "file_extension": ".py",
   "mimetype": "text/x-python",
   "name": "python",
   "nbconvert_exporter": "python",
   "pygments_lexer": "ipython3",
   "version": "3.6.4"
  }
 },
 "nbformat": 4,
 "nbformat_minor": 2
}
