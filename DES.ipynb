{
 "cells": [
  {
   "cell_type": "code",
   "execution_count": 1,
   "metadata": {},
   "outputs": [],
   "source": [
    "# p10=[3,5,2,7,4,10,1,9,8,6]\n",
    "p10=[3,5,2,7,4,10,1,9,8,6]\n",
    "# p8=[6,3,7,4,8,5,10,9]\n",
    "p8 =[6,3,7,4,8,5,10,9]\n",
    "p4=[2,4,3,1]\n",
    "ip=[2,6,3,1,4,8,5,7]\n",
    "iip=[4,1,3,5,7,2,8,6]\n",
    "e=[4,1,2,3,2,3,4,1]\n",
    "s0=[\n",
    "    [1,0,3,2],\n",
    "    [3,2,1,0],\n",
    "    [0,2,1,3],\n",
    "    [3,1,3,2]\n",
    "]\n",
    "s1=[\n",
    "    [0, 1, 2, 3],\n",
    "    [2, 0, 1, 3],\n",
    "    [3, 0, 1, 0],\n",
    "    [2, 1, 0, 3]\n",
    "]"
   ]
  },
  {
   "cell_type": "code",
   "execution_count": 2,
   "metadata": {},
   "outputs": [
    {
     "name": "stdout",
     "output_type": "stream",
     "text": [
      "1010000010\n"
     ]
    }
   ],
   "source": [
    "# key='101000001\n",
    "key = input()"
   ]
  },
  {
   "cell_type": "code",
   "execution_count": 7,
   "metadata": {},
   "outputs": [],
   "source": [
    "def p_box(ip,per):\n",
    "    output=\"\"\n",
    "    for p in per:\n",
    "        output= output+ip[p-1]\n",
    "    return output"
   ]
  },
  {
   "cell_type": "code",
   "execution_count": 10,
   "metadata": {},
   "outputs": [],
   "source": [
    "def shifting(key,n):\n",
    "    output = key[n:]+key[:n]\n",
    "    return output"
   ]
  },
  {
   "cell_type": "code",
   "execution_count": 18,
   "metadata": {},
   "outputs": [
    {
     "name": "stdout",
     "output_type": "stream",
     "text": [
      "10100100\n",
      "01000011\n"
     ]
    }
   ],
   "source": [
    "#key_1\n",
    "p10_permutaion = p_box(key,p10)\n",
    "shifted_1=shifting(p10_permutaion[:5],1)+shifting(p10_permutaion[5:],1)\n",
    "key_1 = p_box(shifted_1,p8)\n",
    "print(key_1)\n",
    "#key_2\n",
    "shifted_2=shifting(shifted_1[:5],2)+shifting(shifted_1[5:],2)\n",
    "key_2 = p_box(shifted_2,p8)\n",
    "print(key_2)\n"
   ]
  },
  {
   "cell_type": "code",
   "execution_count": null,
   "metadata": {},
   "outputs": [],
   "source": []
  }
 ],
 "metadata": {
  "kernelspec": {
   "display_name": "Python 3",
   "language": "python",
   "name": "python3"
  },
  "language_info": {
   "codemirror_mode": {
    "name": "ipython",
    "version": 3
   },
   "file_extension": ".py",
   "mimetype": "text/x-python",
   "name": "python",
   "nbconvert_exporter": "python",
   "pygments_lexer": "ipython3",
   "version": "3.6.4"
  }
 },
 "nbformat": 4,
 "nbformat_minor": 2
}
