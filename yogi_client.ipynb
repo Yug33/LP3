{
 "cells": [
  {
   "cell_type": "code",
   "execution_count": 1,
   "metadata": {},
   "outputs": [],
   "source": [
    "import socket\n",
    "s = socket.socket()\n",
    "host = socket.gethostname()\n",
    "port=7890\n",
    "server_socket= s.connect((host,port))\n"
   ]
  },
  {
   "cell_type": "code",
   "execution_count": 2,
   "metadata": {},
   "outputs": [],
   "source": [
    "p=13\n",
    "q=29\n",
    "n = p*q\n",
    "phi = (p-1)*(q-1)\n"
   ]
  },
  {
   "cell_type": "code",
   "execution_count": 3,
   "metadata": {},
   "outputs": [
    {
     "name": "stdout",
     "output_type": "stream",
     "text": [
      "5\n"
     ]
    }
   ],
   "source": [
    "import math\n",
    "e =2\n",
    "while (e<phi):\n",
    "    if(math.gcd(e,phi)==1):\n",
    "        break;\n",
    "    else:\n",
    "        e=e+1\n",
    "print(e)"
   ]
  },
  {
   "cell_type": "code",
   "execution_count": 4,
   "metadata": {},
   "outputs": [
    {
     "name": "stdout",
     "output_type": "stream",
     "text": [
      "269.0\n"
     ]
    }
   ],
   "source": [
    "i=1\n",
    "d=((i*phi)+1)/e\n",
    "while(d-math.floor(d)!=0):\n",
    "    i=i+1\n",
    "    d=((i*phi)+1)/e\n",
    "print(d)"
   ]
  },
  {
   "cell_type": "code",
   "execution_count": 5,
   "metadata": {},
   "outputs": [
    {
     "name": "stdout",
     "output_type": "stream",
     "text": [
      "374 269.0\n",
      "56\n"
     ]
    }
   ],
   "source": [
    "length=str(n)\n",
    "en_key=str(e)\n",
    "length=length.encode('ascii')\n",
    "key=en_key.encode('ascii')\n",
    "s.send(length)\n",
    "s.send(key)\n",
    "msg=s.recv(1024)\n",
    "msg= int(msg.decode('ascii'))\n",
    "print(msg,d)\n",
    "plain_text=(pow(msg,int(d)))\n",
    "plain_text%=n\n",
    "s.close()\n",
    "print(plain_text)"
   ]
  },
  {
   "cell_type": "code",
   "execution_count": null,
   "metadata": {},
   "outputs": [],
   "source": []
  }
 ],
 "metadata": {
  "kernelspec": {
   "display_name": "Python 3",
   "language": "python",
   "name": "python3"
  },
  "language_info": {
   "codemirror_mode": {
    "name": "ipython",
    "version": 3
   },
   "file_extension": ".py",
   "mimetype": "text/x-python",
   "name": "python",
   "nbconvert_exporter": "python",
   "pygments_lexer": "ipython3",
   "version": "3.6.4"
  }
 },
 "nbformat": 4,
 "nbformat_minor": 2
}
